{
 "cells": [
  {
   "cell_type": "code",
   "execution_count": 1,
   "metadata": {},
   "outputs": [
    {
     "name": "stdout",
     "output_type": "stream",
     "text": [
      "Collecting openai-whisper\n",
      "  Downloading openai-whisper-20240930.tar.gz (800 kB)\n",
      "\u001b[K     |████████████████████████████████| 800 kB 8.6 MB/s eta 0:00:01\n",
      "\u001b[?25h  Installing build dependencies ... \u001b[?25ldone\n",
      "\u001b[?25h  Getting requirements to build wheel ... \u001b[?25ldone\n",
      "\u001b[?25h    Preparing wheel metadata ... \u001b[?25ldone\n",
      "\u001b[?25hRequirement already satisfied: tiktoken in ./venv/lib/python3.9/site-packages (from openai-whisper) (0.8.0)\n",
      "Requirement already satisfied: tqdm in ./venv/lib/python3.9/site-packages (from openai-whisper) (4.67.1)\n",
      "Collecting numba\n",
      "  Downloading numba-0.60.0-cp39-cp39-macosx_10_9_x86_64.whl (2.6 MB)\n",
      "\u001b[K     |████████████████████████████████| 2.6 MB 21.1 MB/s eta 0:00:01\n",
      "\u001b[?25hCollecting torch\n",
      "  Downloading torch-2.2.2-cp39-none-macosx_10_9_x86_64.whl (150.8 MB)\n",
      "\u001b[K     |████████████████████████████████| 150.8 MB 158 kB/s eta 0:00:012\n",
      "\u001b[?25hRequirement already satisfied: numpy in ./venv/lib/python3.9/site-packages (from openai-whisper) (1.26.4)\n",
      "Collecting more-itertools\n",
      "  Downloading more_itertools-10.5.0-py3-none-any.whl (60 kB)\n",
      "\u001b[K     |████████████████████████████████| 60 kB 6.1 MB/s eta 0:00:011\n",
      "\u001b[?25hCollecting llvmlite<0.44,>=0.43.0dev0\n",
      "  Downloading llvmlite-0.43.0-cp39-cp39-macosx_10_9_x86_64.whl (31.1 MB)\n",
      "\u001b[K     |████████████████████████████████| 31.1 MB 7.8 MB/s eta 0:00:01\n",
      "\u001b[?25hRequirement already satisfied: regex>=2022.1.18 in ./venv/lib/python3.9/site-packages (from tiktoken->openai-whisper) (2024.11.6)\n",
      "Requirement already satisfied: requests>=2.26.0 in ./venv/lib/python3.9/site-packages (from tiktoken->openai-whisper) (2.32.3)\n",
      "Requirement already satisfied: urllib3<3,>=1.21.1 in ./venv/lib/python3.9/site-packages (from requests>=2.26.0->tiktoken->openai-whisper) (2.3.0)\n",
      "Requirement already satisfied: charset-normalizer<4,>=2 in ./venv/lib/python3.9/site-packages (from requests>=2.26.0->tiktoken->openai-whisper) (3.4.1)\n",
      "Requirement already satisfied: certifi>=2017.4.17 in ./venv/lib/python3.9/site-packages (from requests>=2.26.0->tiktoken->openai-whisper) (2024.12.14)\n",
      "Requirement already satisfied: idna<4,>=2.5 in ./venv/lib/python3.9/site-packages (from requests>=2.26.0->tiktoken->openai-whisper) (3.10)\n",
      "Requirement already satisfied: sympy in ./venv/lib/python3.9/site-packages (from torch->openai-whisper) (1.13.3)\n",
      "Collecting networkx\n",
      "  Downloading networkx-3.2.1-py3-none-any.whl (1.6 MB)\n",
      "\u001b[K     |████████████████████████████████| 1.6 MB 4.8 MB/s eta 0:00:01\n",
      "\u001b[?25hRequirement already satisfied: jinja2 in ./venv/lib/python3.9/site-packages (from torch->openai-whisper) (3.1.5)\n",
      "Requirement already satisfied: filelock in ./venv/lib/python3.9/site-packages (from torch->openai-whisper) (3.16.1)\n",
      "Requirement already satisfied: typing-extensions>=4.8.0 in ./venv/lib/python3.9/site-packages (from torch->openai-whisper) (4.12.2)\n",
      "Requirement already satisfied: fsspec in ./venv/lib/python3.9/site-packages (from torch->openai-whisper) (2024.12.0)\n",
      "Requirement already satisfied: MarkupSafe>=2.0 in ./venv/lib/python3.9/site-packages (from jinja2->torch->openai-whisper) (3.0.2)\n",
      "Requirement already satisfied: mpmath<1.4,>=1.1.0 in ./venv/lib/python3.9/site-packages (from sympy->torch->openai-whisper) (1.3.0)\n",
      "Building wheels for collected packages: openai-whisper\n",
      "  Building wheel for openai-whisper (PEP 517) ... \u001b[?25ldone\n",
      "\u001b[?25h  Created wheel for openai-whisper: filename=openai_whisper-20240930-py3-none-any.whl size=803373 sha256=8b69fe7334964d403fb527caceee102cd4cad3df94139dd9e51c17cc54c76716\n",
      "  Stored in directory: /Users/apple/Library/Caches/pip/wheels/94/29/f3/3dd4d7f88df5d701acd3206732dcb6265379c5ece94b472c17\n",
      "Successfully built openai-whisper\n",
      "Installing collected packages: networkx, llvmlite, torch, numba, more-itertools, openai-whisper\n",
      "Successfully installed llvmlite-0.43.0 more-itertools-10.5.0 networkx-3.2.1 numba-0.60.0 openai-whisper-20240930 torch-2.2.2\n",
      "\u001b[33mWARNING: You are using pip version 21.2.4; however, version 24.3.1 is available.\n",
      "You should consider upgrading via the '/Users/apple/Desktop/untitled folder/venv/bin/python -m pip install --upgrade pip' command.\u001b[0m\n",
      "Note: you may need to restart the kernel to use updated packages.\n"
     ]
    }
   ],
   "source": [
    "%pip install -U openai-whisper\n",
    "\n"
   ]
  },
  {
   "cell_type": "code",
   "execution_count": 2,
   "metadata": {},
   "outputs": [
    {
     "name": "stdout",
     "output_type": "stream",
     "text": [
      "Collecting git+https://github.com/openai/whisper.git\n",
      "  Cloning https://github.com/openai/whisper.git to /private/var/folders/kt/b830yctx1qb6m14q4b8pxbm00000gn/T/pip-req-build-jsfuxlx7\n",
      "  Running command git clone -q https://github.com/openai/whisper.git /private/var/folders/kt/b830yctx1qb6m14q4b8pxbm00000gn/T/pip-req-build-jsfuxlx7\n",
      "  Resolved https://github.com/openai/whisper.git to commit 517a43ecd132a2089d85f4ebc044728a71d49f6e\n",
      "  Installing build dependencies ... \u001b[?25ldone\n",
      "\u001b[?25h  Getting requirements to build wheel ... \u001b[?25ldone\n",
      "\u001b[?25h    Preparing wheel metadata ... \u001b[?25ldone\n",
      "\u001b[?25hBuilding wheels for collected packages: openai-whisper\n",
      "  Building wheel for openai-whisper (PEP 517) ... \u001b[?25ldone\n",
      "\u001b[?25h  Created wheel for openai-whisper: filename=openai_whisper-20240930-py3-none-any.whl size=803669 sha256=b99076743c61f4bce088f7cd5be69f6fe2cf735ccabda1faa49911887c0f2e14\n",
      "  Stored in directory: /private/var/folders/kt/b830yctx1qb6m14q4b8pxbm00000gn/T/pip-ephem-wheel-cache-g0d1gmvo/wheels/fe/03/29/e7919208d11b4ab32972cb448bb84a9a675d92cd52c9a48341\n",
      "Successfully built openai-whisper\n",
      "Installing collected packages: openai-whisper\n",
      "  Attempting uninstall: openai-whisper\n",
      "    Found existing installation: openai-whisper 20240930\n",
      "    Uninstalling openai-whisper-20240930:\n",
      "      Successfully uninstalled openai-whisper-20240930\n",
      "Successfully installed openai-whisper-20240930\n",
      "\u001b[33mWARNING: You are using pip version 21.2.4; however, version 24.3.1 is available.\n",
      "You should consider upgrading via the '/Users/apple/Desktop/untitled folder/venv/bin/python -m pip install --upgrade pip' command.\u001b[0m\n",
      "Note: you may need to restart the kernel to use updated packages.\n"
     ]
    }
   ],
   "source": [
    "%pip install --upgrade --no-deps --force-reinstall git+https://github.com/openai/whisper.git\n"
   ]
  },
  {
   "cell_type": "code",
   "execution_count": 5,
   "metadata": {},
   "outputs": [
    {
     "name": "stdout",
     "output_type": "stream",
     "text": [
      "Collecting ffmpeg-python\n",
      "  Downloading ffmpeg_python-0.2.0-py3-none-any.whl (25 kB)\n",
      "Collecting future\n",
      "  Downloading future-1.0.0-py3-none-any.whl (491 kB)\n",
      "\u001b[K     |████████████████████████████████| 491 kB 14.4 MB/s eta 0:00:01\n",
      "\u001b[?25hInstalling collected packages: future, ffmpeg-python\n",
      "Successfully installed ffmpeg-python-0.2.0 future-1.0.0\n",
      "\u001b[33mWARNING: You are using pip version 21.2.4; however, version 24.3.1 is available.\n",
      "You should consider upgrading via the '/Users/apple/Desktop/untitled folder/venv/bin/python -m pip install --upgrade pip' command.\u001b[0m\n",
      "Note: you may need to restart the kernel to use updated packages.\n"
     ]
    }
   ],
   "source": [
    "%pip install ffmpeg-python\n",
    "\n"
   ]
  },
  {
   "cell_type": "code",
   "execution_count": 6,
   "metadata": {},
   "outputs": [
    {
     "name": "stdout",
     "output_type": "stream",
     "text": [
      "Collecting setuptools-rust\n",
      "  Downloading setuptools_rust-1.10.2-py3-none-any.whl (26 kB)\n",
      "Collecting semantic-version<3,>=2.8.2\n",
      "  Downloading semantic_version-2.10.0-py2.py3-none-any.whl (15 kB)\n",
      "Collecting setuptools>=62.4\n",
      "  Using cached setuptools-75.8.0-py3-none-any.whl (1.2 MB)\n",
      "Installing collected packages: setuptools, semantic-version, setuptools-rust\n",
      "  Attempting uninstall: setuptools\n",
      "    Found existing installation: setuptools 58.0.4\n",
      "    Uninstalling setuptools-58.0.4:\n",
      "      Successfully uninstalled setuptools-58.0.4\n",
      "Successfully installed semantic-version-2.10.0 setuptools-75.8.0 setuptools-rust-1.10.2\n",
      "\u001b[33mWARNING: You are using pip version 21.2.4; however, version 24.3.1 is available.\n",
      "You should consider upgrading via the '/Users/apple/Desktop/untitled folder/venv/bin/python -m pip install --upgrade pip' command.\u001b[0m\n",
      "Note: you may need to restart the kernel to use updated packages.\n"
     ]
    }
   ],
   "source": [
    "%pip install setuptools-rust\n",
    "\n",
    "    "
   ]
  },
  {
   "cell_type": "code",
   "execution_count": 11,
   "metadata": {},
   "outputs": [
    {
     "name": "stderr",
     "output_type": "stream",
     "text": [
      "/Users/apple/Desktop/untitled folder/venv/lib/python3.9/site-packages/whisper/transcribe.py:132: UserWarning: FP16 is not supported on CPU; using FP32 instead\n",
      "  warnings.warn(\"FP16 is not supported on CPU; using FP32 instead\")\n"
     ]
    },
    {
     "name": "stdout",
     "output_type": "stream",
     "text": [
      "[{'id': 0, 'seek': 0, 'start': 0.0, 'end': 3.0, 'text': ' Okay, ready?', 'tokens': [50363, 16805, 11, 3492, 30, 50513], 'temperature': 0.0, 'avg_logprob': -0.3835871596085398, 'compression_ratio': 1.6282051282051282, 'no_speech_prob': 0.07930533587932587}, {'id': 1, 'seek': 0, 'start': 3.0, 'end': 5.0, 'text': ' Somebody give me a topic.', 'tokens': [50513, 43141, 1577, 502, 257, 7243, 13, 50613], 'temperature': 0.0, 'avg_logprob': -0.3835871596085398, 'compression_ratio': 1.6282051282051282, 'no_speech_prob': 0.07930533587932587}, {'id': 2, 'seek': 0, 'start': 5.0, 'end': 6.0, 'text': ' Strawberries?', 'tokens': [50613, 27279, 20853, 30, 50663], 'temperature': 0.0, 'avg_logprob': -0.3835871596085398, 'compression_ratio': 1.6282051282051282, 'no_speech_prob': 0.07930533587932587}, {'id': 3, 'seek': 0, 'start': 6.0, 'end': 7.0, 'text': ' Strawberries.', 'tokens': [50663, 27279, 20853, 13, 50713], 'temperature': 0.0, 'avg_logprob': -0.3835871596085398, 'compression_ratio': 1.6282051282051282, 'no_speech_prob': 0.07930533587932587}, {'id': 4, 'seek': 0, 'start': 7.0, 'end': 9.0, 'text': \" We're going to go with strawberries.\", 'tokens': [50713, 775, 821, 1016, 284, 467, 351, 36973, 13, 50813], 'temperature': 0.0, 'avg_logprob': -0.3835871596085398, 'compression_ratio': 1.6282051282051282, 'no_speech_prob': 0.07930533587932587}, {'id': 5, 'seek': 0, 'start': 9.0, 'end': 15.0, 'text': ' Okay, so now you would have roughly about two minutes, okay?', 'tokens': [50813, 16805, 11, 523, 783, 345, 561, 423, 7323, 546, 734, 2431, 11, 8788, 30, 51113], 'temperature': 0.0, 'avg_logprob': -0.3835871596085398, 'compression_ratio': 1.6282051282051282, 'no_speech_prob': 0.07930533587932587}, {'id': 6, 'seek': 0, 'start': 15.0, 'end': 16.0, 'text': ' Strawberries.', 'tokens': [51113, 27279, 20853, 13, 51163], 'temperature': 0.0, 'avg_logprob': -0.3835871596085398, 'compression_ratio': 1.6282051282051282, 'no_speech_prob': 0.07930533587932587}, {'id': 7, 'seek': 0, 'start': 16.0, 'end': 17.0, 'text': ' Strawberries.', 'tokens': [51163, 27279, 20853, 13, 51213], 'temperature': 0.0, 'avg_logprob': -0.3835871596085398, 'compression_ratio': 1.6282051282051282, 'no_speech_prob': 0.07930533587932587}, {'id': 8, 'seek': 0, 'start': 17.0, 'end': 24.0, 'text': ' My thesis is going to be Tampa is excellent for strawberries.', 'tokens': [51213, 2011, 21554, 318, 1016, 284, 307, 15528, 318, 6275, 329, 36973, 13, 51563], 'temperature': 0.0, 'avg_logprob': -0.3835871596085398, 'compression_ratio': 1.6282051282051282, 'no_speech_prob': 0.07930533587932587}, {'id': 9, 'seek': 2400, 'start': 25.0, 'end': 29.0, 'text': ' My two points are going to be food and festival.', 'tokens': [50413, 2011, 734, 2173, 389, 1016, 284, 307, 2057, 290, 10876, 13, 50613], 'temperature': 0.0, 'avg_logprob': -0.18337989639449906, 'compression_ratio': 1.7329842931937174, 'no_speech_prob': 0.13575710356235504}, {'id': 10, 'seek': 2400, 'start': 29.0, 'end': 31.0, 'text': ' Okay?', 'tokens': [50613, 16805, 30, 50713], 'temperature': 0.0, 'avg_logprob': -0.18337989639449906, 'compression_ratio': 1.7329842931937174, 'no_speech_prob': 0.13575710356235504}, {'id': 11, 'seek': 2400, 'start': 31.0, 'end': 36.0, 'text': ' On your day on Wednesday, you do that for about two minutes.', 'tokens': [50713, 1550, 534, 1110, 319, 3583, 11, 345, 466, 326, 329, 546, 734, 2431, 13, 50963], 'temperature': 0.0, 'avg_logprob': -0.18337989639449906, 'compression_ratio': 1.7329842931937174, 'no_speech_prob': 0.13575710356235504}, {'id': 12, 'seek': 2400, 'start': 39.0, 'end': 41.0, 'text': ' Do you remember going to fairs as a kid?', 'tokens': [51113, 2141, 345, 3505, 1016, 284, 3148, 82, 355, 257, 5141, 30, 51213], 'temperature': 0.0, 'avg_logprob': -0.18337989639449906, 'compression_ratio': 1.7329842931937174, 'no_speech_prob': 0.13575710356235504}, {'id': 13, 'seek': 2400, 'start': 41.0, 'end': 45.0, 'text': ' Does anybody remember going to carnival or do you remember going to the arcade', 'tokens': [51213, 8314, 9599, 3505, 1016, 284, 18466, 2473, 393, 466, 345, 3505, 1016, 284, 262, 27210, 51413], 'temperature': 0.0, 'avg_logprob': -0.18337989639449906, 'compression_ratio': 1.7329842931937174, 'no_speech_prob': 0.13575710356235504}, {'id': 14, 'seek': 2400, 'start': 45.0, 'end': 49.0, 'text': ' or do you remember going to maybe a 4-H festival with animals?', 'tokens': [51413, 393, 466, 345, 3505, 1016, 284, 3863, 257, 604, 12, 39, 10876, 351, 4695, 30, 51613], 'temperature': 0.0, 'avg_logprob': -0.18337989639449906, 'compression_ratio': 1.7329842931937174, 'no_speech_prob': 0.13575710356235504}, {'id': 15, 'seek': 2400, 'start': 49.0, 'end': 52.0, 'text': ' Well, imagine all that together.', 'tokens': [51613, 3894, 11, 5967, 477, 326, 1978, 13, 51763], 'temperature': 0.0, 'avg_logprob': -0.18337989639449906, 'compression_ratio': 1.7329842931937174, 'no_speech_prob': 0.13575710356235504}, {'id': 16, 'seek': 5200, 'start': 53.0, 'end': 56.0, 'text': ' And you get the Florida Strawberry Festival.', 'tokens': [50413, 843, 345, 651, 262, 4744, 42611, 11117, 13, 50563], 'temperature': 0.0, 'avg_logprob': -0.1257748899206651, 'compression_ratio': 1.725, 'no_speech_prob': 0.014841459691524506}, {'id': 17, 'seek': 5200, 'start': 56.0, 'end': 61.0, 'text': \" My name is Chris, and as someone who's lived in Tampa now for almost 15 years,\", 'tokens': [50563, 2011, 1438, 318, 5180, 11, 290, 355, 2130, 508, 338, 5615, 287, 15528, 783, 329, 2048, 1315, 812, 11, 50813], 'temperature': 0.0, 'avg_logprob': -0.1257748899206651, 'compression_ratio': 1.725, 'no_speech_prob': 0.014841459691524506}, {'id': 18, 'seek': 5200, 'start': 61.0, 'end': 65.0, 'text': ' strawberries I have learned are an integral part of this region.', 'tokens': [50813, 36973, 314, 423, 4499, 389, 281, 19287, 636, 286, 428, 3814, 13, 51013], 'temperature': 0.0, 'avg_logprob': -0.1257748899206651, 'compression_ratio': 1.725, 'no_speech_prob': 0.014841459691524506}, {'id': 19, 'seek': 5200, 'start': 65.0, 'end': 72.0, 'text': \" And that's because Tampa has the strawberry fest, and that is a celebration of all things strawberry.\", 'tokens': [51013, 843, 326, 338, 780, 15528, 468, 262, 41236, 15292, 11, 290, 326, 318, 257, 14395, 286, 477, 1243, 41236, 13, 51363], 'temperature': 0.0, 'avg_logprob': -0.1257748899206651, 'compression_ratio': 1.725, 'no_speech_prob': 0.014841459691524506}, {'id': 20, 'seek': 5200, 'start': 72.0, 'end': 76.0, 'text': \" So for the next couple of minutes, I'd like to tell you a little bit about the food strawberries\", 'tokens': [51363, 1406, 329, 262, 1306, 3155, 286, 2431, 11, 314, 1549, 588, 284, 1560, 345, 257, 1310, 1643, 546, 262, 2057, 36973, 51563], 'temperature': 0.0, 'avg_logprob': -0.1257748899206651, 'compression_ratio': 1.725, 'no_speech_prob': 0.014841459691524506}, {'id': 21, 'seek': 5200, 'start': 76.0, 'end': 80.0, 'text': ' and the festival that ensues, because this is something that everyone who lives in this region,', 'tokens': [51563, 290, 262, 10876, 326, 3140, 947, 11, 780, 428, 318, 1223, 326, 2506, 508, 3160, 287, 428, 3814, 11, 51763], 'temperature': 0.0, 'avg_logprob': -0.1257748899206651, 'compression_ratio': 1.725, 'no_speech_prob': 0.014841459691524506}, {'id': 22, 'seek': 8000, 'start': 80.0, 'end': 85.0, 'text': \" whether you're a student or a resident, needs to experience at least once.\", 'tokens': [50363, 1771, 345, 821, 257, 3710, 393, 257, 6623, 11, 2476, 284, 1998, 379, 1551, 1752, 13, 50613], 'temperature': 0.0, 'avg_logprob': -0.09852760716488487, 'compression_ratio': 1.6666666666666667, 'no_speech_prob': 0.0024113524705171585}, {'id': 23, 'seek': 8000, 'start': 85.0, 'end': 87.0, 'text': \" Let's first talk a little bit about the food.\", 'tokens': [50613, 3914, 338, 717, 1561, 257, 1310, 1643, 546, 262, 2057, 13, 50713], 'temperature': 0.0, 'avg_logprob': -0.09852760716488487, 'compression_ratio': 1.6666666666666667, 'no_speech_prob': 0.0024113524705171585}, {'id': 24, 'seek': 8000, 'start': 87.0, 'end': 93.0, 'text': \" Tampa is known to be what's a subtropical climate zone, which means we are perfect for growing strawberries\", 'tokens': [50713, 15528, 318, 1900, 284, 307, 644, 338, 257, 13284, 1773, 605, 4258, 6516, 11, 543, 1724, 356, 389, 2818, 329, 3957, 36973, 51013], 'temperature': 0.0, 'avg_logprob': -0.09852760716488487, 'compression_ratio': 1.6666666666666667, 'no_speech_prob': 0.0024113524705171585}, {'id': 25, 'seek': 8000, 'start': 93.0, 'end': 99.0, 'text': ' both in and out of season, which means that we can harvest the strawberries almost all year around,', 'tokens': [51013, 1111, 287, 290, 503, 286, 1622, 11, 543, 1724, 326, 356, 460, 13222, 262, 36973, 2048, 477, 614, 1088, 11, 51313], 'temperature': 0.0, 'avg_logprob': -0.09852760716488487, 'compression_ratio': 1.6666666666666667, 'no_speech_prob': 0.0024113524705171585}, {'id': 26, 'seek': 8000, 'start': 99.0, 'end': 104.0, 'text': \" but specifically in February when they're actually the rightfist that they can be.\", 'tokens': [51313, 475, 5734, 287, 3945, 618, 484, 821, 1682, 262, 826, 69, 396, 326, 484, 460, 307, 13, 51563], 'temperature': 0.0, 'avg_logprob': -0.09852760716488487, 'compression_ratio': 1.6666666666666667, 'no_speech_prob': 0.0024113524705171585}, {'id': 27, 'seek': 8000, 'start': 104.0, 'end': 108.0, 'text': \" And they're harvested from here out in the county of Tampa Bay.\", 'tokens': [51563, 843, 484, 821, 34262, 422, 994, 503, 287, 262, 7968, 286, 15528, 4696, 13, 51763], 'temperature': 0.0, 'avg_logprob': -0.09852760716488487, 'compression_ratio': 1.6666666666666667, 'no_speech_prob': 0.0024113524705171585}, {'id': 28, 'seek': 10800, 'start': 108.0, 'end': 112.0, 'text': \" What's good about them is that they are a special strawberry known to this region,\", 'tokens': [50363, 1867, 338, 922, 546, 606, 318, 326, 484, 389, 257, 2041, 41236, 1900, 284, 428, 3814, 11, 50563], 'temperature': 0.0, 'avg_logprob': -0.07264318466186523, 'compression_ratio': 1.7218045112781954, 'no_speech_prob': 0.017626464366912842}, {'id': 29, 'seek': 10800, 'start': 112.0, 'end': 114.0, 'text': \" which means they're flavorful and tasty.\", 'tokens': [50563, 543, 1724, 484, 821, 47420, 290, 25103, 13, 50663], 'temperature': 0.0, 'avg_logprob': -0.07264318466186523, 'compression_ratio': 1.7218045112781954, 'no_speech_prob': 0.017626464366912842}, {'id': 30, 'seek': 10800, 'start': 114.0, 'end': 120.0, 'text': ' And the people in this area have been celebrating the strawberry for over 100 years.', 'tokens': [50663, 843, 262, 661, 287, 428, 1989, 423, 587, 17499, 262, 41236, 329, 625, 1802, 812, 13, 50963], 'temperature': 0.0, 'avg_logprob': -0.07264318466186523, 'compression_ratio': 1.7218045112781954, 'no_speech_prob': 0.017626464366912842}, {'id': 31, 'seek': 10800, 'start': 120.0, 'end': 126.0, 'text': \" Speaking of celebrations, let's talk a little bit about the actual celebration known as the Florida Strawberry Festival.\", 'tokens': [50963, 21393, 286, 22861, 11, 1309, 338, 1561, 257, 1310, 1643, 546, 262, 4036, 14395, 1900, 355, 262, 4744, 42611, 11117, 13, 51263], 'temperature': 0.0, 'avg_logprob': -0.07264318466186523, 'compression_ratio': 1.7218045112781954, 'no_speech_prob': 0.017626464366912842}, {'id': 32, 'seek': 10800, 'start': 126.0, 'end': 133.0, 'text': \" This is held out in the county, and it's wonderful because what the farmers do is that they bring all the strawberries together,\", 'tokens': [51263, 770, 318, 2714, 503, 287, 262, 7968, 11, 290, 340, 338, 7932, 780, 644, 262, 9818, 466, 318, 326, 484, 2222, 477, 262, 36973, 1978, 11, 51613], 'temperature': 0.0, 'avg_logprob': -0.07264318466186523, 'compression_ratio': 1.7218045112781954, 'no_speech_prob': 0.017626464366912842}, {'id': 33, 'seek': 13300, 'start': 133.0, 'end': 138.0, 'text': ' and they have people who harvest them. They have the farms, they have the inventors.', 'tokens': [50363, 290, 484, 423, 661, 508, 13222, 606, 13, 1119, 423, 262, 15893, 11, 484, 423, 262, 8067, 669, 13, 50613], 'temperature': 0.0, 'avg_logprob': -0.18522232457211144, 'compression_ratio': 1.75, 'no_speech_prob': 0.0340552031993866}, {'id': 34, 'seek': 13300, 'start': 138.0, 'end': 147.0, 'text': ' They also have things for the kids, they have farm animals, they have events and concerts, specifically live music,', 'tokens': [50613, 1119, 635, 423, 1243, 329, 262, 3988, 11, 484, 423, 5318, 4695, 11, 484, 423, 2995, 290, 28565, 11, 5734, 2107, 2647, 11, 51063], 'temperature': 0.0, 'avg_logprob': -0.18522232457211144, 'compression_ratio': 1.75, 'no_speech_prob': 0.0340552031993866}, {'id': 35, 'seek': 13300, 'start': 147.0, 'end': 149.0, 'text': ' comedians, and rock bands.', 'tokens': [51063, 43520, 11, 290, 3881, 11760, 13, 51163], 'temperature': 0.0, 'avg_logprob': -0.18522232457211144, 'compression_ratio': 1.75, 'no_speech_prob': 0.0340552031993866}, {'id': 36, 'seek': 13300, 'start': 149.0, 'end': 151.0, 'text': \" So there's something for everybody.\", 'tokens': [51163, 1406, 612, 338, 1223, 329, 7288, 13, 51263], 'temperature': 0.0, 'avg_logprob': -0.18522232457211144, 'compression_ratio': 1.75, 'no_speech_prob': 0.0340552031993866}, {'id': 37, 'seek': 13300, 'start': 151.0, 'end': 158.0, 'text': \" The Florida Strawberry Festival goes on for two weeks in February, and it's so big that strawberry quested the crest schools out in the county\", 'tokens': [51263, 383, 4744, 42611, 11117, 2925, 319, 329, 734, 2745, 287, 3945, 11, 290, 340, 338, 523, 1263, 326, 41236, 1235, 276, 262, 36893, 4266, 503, 287, 262, 7968, 51613], 'temperature': 0.0, 'avg_logprob': -0.18522232457211144, 'compression_ratio': 1.75, 'no_speech_prob': 0.0340552031993866}, {'id': 38, 'seek': 15800, 'start': 158.0, 'end': 163.0, 'text': ' actually had the day off, and sometimes the weekends off, the weeks off of school.', 'tokens': [50363, 1682, 550, 262, 1110, 572, 11, 290, 3360, 262, 21511, 572, 11, 262, 2745, 572, 286, 1524, 13, 50613], 'temperature': 0.0, 'avg_logprob': -0.1477998991807302, 'compression_ratio': 1.6588235294117648, 'no_speech_prob': 0.16011661291122437}, {'id': 39, 'seek': 15800, 'start': 163.0, 'end': 171.0, 'text': ' So today, what I asked about strawberries, I thought immediately about the Central Florida Region, our climate zone, and the food that is the strawberry.', 'tokens': [50613, 1406, 1909, 11, 644, 314, 1965, 546, 36973, 11, 314, 1807, 3393, 546, 262, 5694, 4744, 17718, 11, 674, 4258, 6516, 11, 290, 262, 2057, 326, 318, 262, 41236, 13, 51013], 'temperature': 0.0, 'avg_logprob': -0.1477998991807302, 'compression_ratio': 1.6588235294117648, 'no_speech_prob': 0.16011661291122437}, {'id': 40, 'seek': 15800, 'start': 171.0, 'end': 177.0, 'text': \" But we don't harvest them all year round, we do harvest them specifically in February when they're rightfist.\", 'tokens': [51013, 887, 356, 836, 470, 13222, 606, 477, 614, 2835, 11, 356, 466, 13222, 606, 5734, 287, 3945, 618, 484, 821, 826, 69, 396, 13, 51313], 'temperature': 0.0, 'avg_logprob': -0.1477998991807302, 'compression_ratio': 1.6588235294117648, 'no_speech_prob': 0.16011661291122437}, {'id': 41, 'seek': 15800, 'start': 177.0, 'end': 180.0, 'text': ' Then we celebrate it with the festival known as the Florida Strawberry Fest.', 'tokens': [51313, 3244, 356, 10648, 340, 351, 262, 10876, 1900, 355, 262, 4744, 42611, 26812, 13, 51463], 'temperature': 0.0, 'avg_logprob': -0.1477998991807302, 'compression_ratio': 1.6588235294117648, 'no_speech_prob': 0.16011661291122437}, {'id': 42, 'seek': 18000, 'start': 180.0, 'end': 185.0, 'text': \" It's one of the biggest fundraisers and economic use in the region in February.\", 'tokens': [50363, 632, 338, 530, 286, 262, 4094, 12663, 21572, 290, 3034, 779, 287, 262, 3814, 287, 3945, 13, 50613], 'temperature': 0.0, 'avg_logprob': -0.124574910814517, 'compression_ratio': 1.6028880866425992, 'no_speech_prob': 0.2257075309753418}, {'id': 43, 'seek': 18000, 'start': 185.0, 'end': 189.0, 'text': \" It's got farm animals, rock bands, concerts, and the best thing, food.\", 'tokens': [50613, 632, 338, 1392, 5318, 4695, 11, 3881, 11760, 11, 28565, 11, 290, 262, 1266, 1517, 11, 2057, 13, 50813], 'temperature': 0.0, 'avg_logprob': -0.124574910814517, 'compression_ratio': 1.6028880866425992, 'no_speech_prob': 0.2257075309753418}, {'id': 44, 'seek': 18000, 'start': 189.0, 'end': 193.0, 'text': \" So hopefully when you think of strawberries, they'll come to Central Florida Strawberry Festival.\", 'tokens': [50813, 1406, 11481, 618, 345, 892, 286, 36973, 11, 484, 1183, 1282, 284, 5694, 4744, 42611, 11117, 13, 51013], 'temperature': 0.0, 'avg_logprob': -0.124574910814517, 'compression_ratio': 1.6028880866425992, 'no_speech_prob': 0.2257075309753418}, {'id': 45, 'seek': 18000, 'start': 193.0, 'end': 197.0, 'text': \" And this is something that all of us can experience, whether we're students or residents.\", 'tokens': [51013, 843, 428, 318, 1223, 326, 477, 286, 514, 460, 1998, 11, 1771, 356, 821, 2444, 393, 5085, 13, 51213], 'temperature': 0.0, 'avg_logprob': -0.124574910814517, 'compression_ratio': 1.6028880866425992, 'no_speech_prob': 0.2257075309753418}, {'id': 46, 'seek': 18000, 'start': 197.0, 'end': 201.0, 'text': \" And you'll never again forget about why strawberries are so important to this region.\", 'tokens': [51213, 843, 345, 1183, 1239, 757, 6044, 546, 1521, 36973, 389, 523, 1593, 284, 428, 3814, 13, 51413], 'temperature': 0.0, 'avg_logprob': -0.124574910814517, 'compression_ratio': 1.6028880866425992, 'no_speech_prob': 0.2257075309753418}, {'id': 47, 'seek': 18000, 'start': 201.0, 'end': 202.0, 'text': ' Thank you.', 'tokens': [51413, 6952, 345, 13, 51463], 'temperature': 0.0, 'avg_logprob': -0.124574910814517, 'compression_ratio': 1.6028880866425992, 'no_speech_prob': 0.2257075309753418}, {'id': 48, 'seek': 18000, 'start': 202.0, 'end': 203.0, 'text': ' Alright.', 'tokens': [51463, 40967, 13, 51513], 'temperature': 0.0, 'avg_logprob': -0.124574910814517, 'compression_ratio': 1.6028880866425992, 'no_speech_prob': 0.2257075309753418}, {'id': 49, 'seek': 20300, 'start': 203.0, 'end': 207.0, 'text': ' Couple of Miss Milvers in there.', 'tokens': [50413, 15062, 1154, 286, 4544, 4460, 690, 287, 612, 13, 50563], 'temperature': 0.0, 'avg_logprob': -0.49357398351033527, 'compression_ratio': 0.8421052631578947, 'no_speech_prob': 0.47485339641571045}]\n"
     ]
    }
   ],
   "source": [
    "import whisper\n",
    "\n",
    "model= whisper.load_model(\"base.en\")\n",
    "result = model.transcribe(\"sample.mp3\")\n",
    "print(result[\"segments\"])"
   ]
  }
 ],
 "metadata": {
  "kernelspec": {
   "display_name": "venv",
   "language": "python",
   "name": "python3"
  },
  "language_info": {
   "codemirror_mode": {
    "name": "ipython",
    "version": 3
   },
   "file_extension": ".py",
   "mimetype": "text/x-python",
   "name": "python",
   "nbconvert_exporter": "python",
   "pygments_lexer": "ipython3",
   "version": "3.9.6"
  }
 },
 "nbformat": 4,
 "nbformat_minor": 2
}
